{
 "cells": [
  {
   "cell_type": "markdown",
   "id": "568bdcf6",
   "metadata": {},
   "source": [
    "# Random Stuff\n",
    "\n",
    "Just a collection of random stuff to make my life easier. This is part of my own GitHub repository (and one of the fews I make public), so use the content and scripts here at your own risk :)"
   ]
  },
  {
   "cell_type": "markdown",
   "id": "255a7e41",
   "metadata": {},
   "source": [
    "## Homebrew\n",
    "\n",
    "This is the basis for everything in my MacOS setup. It installs Homebrew and some basic packages.\n",
    "\n",
    "```bash\n",
    "/bin/bash -c \"$(curl -fsSL https://raw.githubusercontent.com/Homebrew/install/HEAD/install.sh)\""
   ]
  },
  {
   "cell_type": "markdown",
   "id": "4bc08a9f",
   "metadata": {},
   "source": [
    "## Oh my Posh\n",
    "To make my console better, I use oh-my-posh to enable full color on my prompts and give me useful information just in front of my eyes. To do that, follow the instructions at https://ohmyposh.dev/docs/installation/macos"
   ]
  }
 ],
 "metadata": {
  "kernelspec": {
   "display_name": "Python 3",
   "language": "python",
   "name": "python3"
  },
  "language_info": {
   "name": "python",
   "version": "3.9.6"
  }
 },
 "nbformat": 4,
 "nbformat_minor": 5
}
